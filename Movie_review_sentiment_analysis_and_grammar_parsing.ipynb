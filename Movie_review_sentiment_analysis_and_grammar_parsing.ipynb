{
  "nbformat": 4,
  "nbformat_minor": 0,
  "metadata": {
    "colab": {
      "provenance": [],
      "authorship_tag": "ABX9TyMpD9Fttmta0JnqHS/DsN+Y",
      "include_colab_link": true
    },
    "kernelspec": {
      "name": "python3",
      "display_name": "Python 3"
    },
    "language_info": {
      "name": "python"
    }
  },
  "cells": [
    {
      "cell_type": "markdown",
      "metadata": {
        "id": "view-in-github",
        "colab_type": "text"
      },
      "source": [
        "<a href=\"https://colab.research.google.com/github/FatimaKhallifa/NLP-Sentiment-and-Grammar-Parser/blob/main/Movie_review_sentiment_analysis_and_grammar_parsing.ipynb\" target=\"_parent\"><img src=\"https://colab.research.google.com/assets/colab-badge.svg\" alt=\"Open In Colab\"/></a>"
      ]
    },
    {
      "cell_type": "code",
      "execution_count": 1,
      "metadata": {
        "colab": {
          "base_uri": "https://localhost:8080/"
        },
        "id": "mi-RCwWdt-p_",
        "outputId": "cce35ca6-049c-4e7b-8d99-cfa569d6d820"
      },
      "outputs": [
        {
          "output_type": "stream",
          "name": "stdout",
          "text": [
            "F-1 Score: 0.5000\n",
            "\n",
            "Parsing sentence:\n",
            "(S\n",
            "  (NP (Det the) (N director))\n",
            "  (VP\n",
            "    (VP (V loved) (NP (Det the) (N plot)))\n",
            "    (PP (P with) (NP (Det a) (N character)))))\n",
            "                        S                                 \n",
            "      __________________|_______                           \n",
            "     |                          VP                        \n",
            "     |                   _______|_________                 \n",
            "     |                  VP                PP              \n",
            "     |              ____|___          ____|___             \n",
            "     NP            |        NP       |        NP          \n",
            "  ___|_____        |     ___|___     |     ___|______      \n",
            "Det        N       V   Det      N    P   Det         N    \n",
            " |         |       |    |       |    |    |          |     \n",
            "the     director loved the     plot with  a      character\n",
            "\n",
            "(S\n",
            "  (NP (Det the) (N director))\n",
            "  (VP\n",
            "    (V loved)\n",
            "    (NP (Det the) (N plot) (PP (P with) (NP (Det a) (N character))))))\n",
            "                        S                             \n",
            "      __________________|___                           \n",
            "     |                      VP                        \n",
            "     |              ________|____                      \n",
            "     |             |             NP                   \n",
            "     |             |     ________|____                 \n",
            "     |             |    |   |         PP              \n",
            "     |             |    |   |     ____|___             \n",
            "     NP            |    |   |    |        NP          \n",
            "  ___|_____        |    |   |    |     ___|______      \n",
            "Det        N       V   Det  N    P   Det         N    \n",
            " |         |       |    |   |    |    |          |     \n",
            "the     director loved the plot with  a      character\n",
            "\n"
          ]
        }
      ],
      "source": [
        "import pandas as pd\n",
        "from sklearn.feature_extraction.text import CountVectorizer\n",
        "from sklearn.model_selection import train_test_split\n",
        "from sklearn.naive_bayes import MultinomialNB\n",
        "from sklearn.metrics import f1_score\n",
        "import nltk\n",
        "from nltk import CFG\n",
        "\n",
        "# Load movie reviews\n",
        "data = {\n",
        "    \"Review\": [\n",
        "        \"The movie was fantastic and very enjoyable!\",\n",
        "        \"I hated the film, it was a waste of time.\",\n",
        "        \"A wonderful experience, truly moving.\",\n",
        "        \"The acting was terrible and the plot was worse.\",\n",
        "        \"An absolute masterpiece, highly recommend it!\"\n",
        "    ],\n",
        "    \"Sentiment\": [1, 0, 1, 0, 1]\n",
        "}\n",
        "df = pd.DataFrame(data)\n",
        "\n",
        "# Preprocess the dataset\n",
        "X = df[\"Review\"]\n",
        "y = df[\"Sentiment\"]\n",
        "\n",
        "# Split the dataset\n",
        "X_train, X_test, y_train, y_test = train_test_split(X, y, test_size=0.25, random_state=42)\n",
        "\n",
        "# Convert text to bag-of-words using CountVectorizer\n",
        "cv = CountVectorizer(analyzer='word', ngram_range=(1, 1), stop_words='english')\n",
        "X_train_cv = cv.fit_transform(X_train)\n",
        "X_test_cv = cv.transform(X_test)\n",
        "\n",
        "# Train a Naive Bayes classifier\n",
        "clf = MultinomialNB()\n",
        "clf.fit(X_train_cv, y_train)\n",
        "\n",
        "# Make predictions and calculate the F1 score\n",
        "y_pred = clf.predict(X_test_cv)\n",
        "score = f1_score(y_test, y_pred, average='micro')\n",
        "print(f\"F-1 Score: {score:.4f}\")\n",
        "\n",
        "# Define a context-free grammar for movie-related sentences\n",
        "grammar = CFG.fromstring(\"\"\"\n",
        "  S -> NP VP\n",
        "  NP -> Det N | Det N PP\n",
        "  VP -> V NP | VP PP\n",
        "  PP -> P NP\n",
        "  Det -> 'a' | 'the'\n",
        "  N -> 'movie' | 'plot' | 'character' | 'director'\n",
        "  V -> 'enjoyed' | 'hated' | 'loved'\n",
        "  P -> 'with' | 'by'\n",
        "\"\"\")\n",
        "\n",
        "# Create a parser\n",
        "parser = nltk.ChartParser(grammar)\n",
        "\n",
        "# Parse a movie-related sentence\n",
        "sentence = \"the director loved the plot with a character\".split()\n",
        "print(\"\\nParsing sentence:\")\n",
        "for tree in parser.parse(sentence):\n",
        "    print(tree)\n",
        "    tree.pretty_print()\n"
      ]
    }
  ]
}